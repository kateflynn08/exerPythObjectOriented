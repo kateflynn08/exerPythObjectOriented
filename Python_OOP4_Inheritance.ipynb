{
 "cells": [
  {
   "cell_type": "markdown",
   "id": "af7b80ec",
   "metadata": {
    "deletable": false,
    "editable": false,
    "nbgrader": {
     "cell_type": "markdown",
     "checksum": "d59707d6f4b2ed4c79cb3a3ade020830",
     "grade": false,
     "grade_id": "cell-80dee5e2efe7e6d4",
     "locked": true,
     "schema_version": 3,
     "solution": false,
     "task": false
    }
   },
   "source": [
    "# Python OOP4 - Inheritance - Creating Subclasses"
   ]
  },
  {
   "cell_type": "markdown",
   "id": "0823713e",
   "metadata": {
    "deletable": false,
    "editable": false,
    "nbgrader": {
     "cell_type": "markdown",
     "checksum": "1e86a87853b73df14acd1c6ceb0ae5e8",
     "grade": false,
     "grade_id": "cell-66290e9c884f67a3",
     "locked": true,
     "schema_version": 3,
     "solution": false,
     "task": false
    }
   },
   "source": [
    "### Instructions\n",
    "\n",
    "* Watch the video tutorial about the os module at https://www.youtube.com/watch?v=RSl87lqOXDE \n",
    "* Complete the programming exercises below as you go through the tutorial.\n",
    "* Delete or comment out the line of code in each cell which says `raise NotImplementedError()` and replace it with your own.\n",
    "* Note: Some cells may have some code provided as a starting point, however, you may need to verify the variable names in the code provided match the way the presenter has spelled his variable names. If you get an error, make sure the variable names match the variable names in the video.\n",
    "\n",
    "### Exercises"
   ]
  },
  {
   "cell_type": "markdown",
   "id": "f6a34135",
   "metadata": {
    "deletable": false,
    "editable": false,
    "nbgrader": {
     "cell_type": "markdown",
     "checksum": "5629748bc532b697912ac897e5c8be8a",
     "grade": false,
     "grade_id": "cell-10a259f52a018617",
     "locked": true,
     "schema_version": 3,
     "solution": false,
     "task": false
    }
   },
   "source": [
    "Write code in the cell below.\n",
    "\n",
    "* Create a new class called `Developer` which inherits from the `Employee` class.\n",
    "* Create two new developers called `dev_1` and `dev_2` using the `Developer` class.\n",
    "* Print out their emails.\n",
    "* Print using the `help()` function for the `Developer` class."
   ]
  },
  {
   "cell_type": "code",
   "execution_count": 3,
   "id": "08c14669",
   "metadata": {
    "deletable": false,
    "nbgrader": {
     "cell_type": "code",
     "checksum": "eb1db7468ccf97e94fdc5c3a72c98cc2",
     "grade": true,
     "grade_id": "cell-633bd474aca99828",
     "locked": false,
     "points": 3,
     "schema_version": 3,
     "solution": true,
     "task": false
    }
   },
   "outputs": [
    {
     "ename": "AttributeError",
     "evalue": "type object 'Employee' has no attribute 'num_of_emps'",
     "output_type": "error",
     "traceback": [
      "\u001b[0;31m---------------------------------------------------------------------------\u001b[0m",
      "\u001b[0;31mAttributeError\u001b[0m                            Traceback (most recent call last)",
      "Cell \u001b[0;32mIn [3], line 23\u001b[0m\n\u001b[1;32m     20\u001b[0m \u001b[38;5;28;01mclass\u001b[39;00m \u001b[38;5;21;01mDeveloper\u001b[39;00m(Employee):\n\u001b[1;32m     21\u001b[0m     \u001b[38;5;28;01mpass\u001b[39;00m\n\u001b[0;32m---> 23\u001b[0m dev_1 \u001b[38;5;241m=\u001b[39m \u001b[43mEmployee\u001b[49m\u001b[43m(\u001b[49m\u001b[38;5;124;43m'\u001b[39;49m\u001b[38;5;124;43mCorey\u001b[39;49m\u001b[38;5;124;43m'\u001b[39;49m\u001b[43m,\u001b[49m\u001b[43m \u001b[49m\u001b[38;5;124;43m'\u001b[39;49m\u001b[38;5;124;43mSchafer\u001b[39;49m\u001b[38;5;124;43m'\u001b[39;49m\u001b[43m,\u001b[49m\u001b[43m \u001b[49m\u001b[38;5;241;43m50000\u001b[39;49m\u001b[43m)\u001b[49m\n\u001b[1;32m     24\u001b[0m dev_2 \u001b[38;5;241m=\u001b[39m Employee(\u001b[38;5;124m'\u001b[39m\u001b[38;5;124mTest\u001b[39m\u001b[38;5;124m'\u001b[39m, \u001b[38;5;124m'\u001b[39m\u001b[38;5;124mUser\u001b[39m\u001b[38;5;124m'\u001b[39m, \u001b[38;5;241m60000\u001b[39m)\n\u001b[1;32m     26\u001b[0m \u001b[38;5;28mprint\u001b[39m(dev_1\u001b[38;5;241m.\u001b[39memail)\n",
      "Cell \u001b[0;32mIn [3], line 12\u001b[0m, in \u001b[0;36mEmployee.__init__\u001b[0;34m(self, first, last, pay)\u001b[0m\n\u001b[1;32m      9\u001b[0m \u001b[38;5;28mself\u001b[39m\u001b[38;5;241m.\u001b[39memail \u001b[38;5;241m=\u001b[39m first \u001b[38;5;241m+\u001b[39m \u001b[38;5;124m'\u001b[39m\u001b[38;5;124m.\u001b[39m\u001b[38;5;124m'\u001b[39m \u001b[38;5;241m+\u001b[39m last \u001b[38;5;241m+\u001b[39m \u001b[38;5;124m'\u001b[39m\u001b[38;5;124m@email.com\u001b[39m\u001b[38;5;124m'\u001b[39m\n\u001b[1;32m     10\u001b[0m \u001b[38;5;28mself\u001b[39m\u001b[38;5;241m.\u001b[39mpay \u001b[38;5;241m=\u001b[39m pay\n\u001b[0;32m---> 12\u001b[0m Employee\u001b[38;5;241m.\u001b[39mnum_of_emps \u001b[38;5;241m+\u001b[39m\u001b[38;5;241m=\u001b[39m \u001b[38;5;241m1\u001b[39m\n",
      "\u001b[0;31mAttributeError\u001b[0m: type object 'Employee' has no attribute 'num_of_emps'"
     ]
    }
   ],
   "source": [
    "class Employee:\n",
    "    \n",
    "    raise_amount = 1.04\n",
    "    \n",
    "    def __init__(self, first, last, pay):\n",
    "        self.first = first\n",
    "        self.last = last\n",
    "        self.pay = pay\n",
    "        self.email = first + '.' + last + '@email.com'\n",
    "        self.pay = pay\n",
    "        \n",
    "        Employee.num_of_emps += 1\n",
    "        \n",
    "    def fullname(self):\n",
    "        return '{} {}'.format(self.first, self.last)\n",
    "    \n",
    "    def apply_raise(self):\n",
    "        self.pay = int(self.pay * self.raise_amount)\n",
    "\n",
    "class Developer(Employee):\n",
    "    pass\n",
    "        \n",
    "dev_1 = Employee('Corey', 'Schafer', 50000)\n",
    "dev_2 = Employee('Test', 'User', 60000)\n",
    "\n",
    "print(dev_1.email)\n",
    "print(dev_2.email)\n"
   ]
  },
  {
   "cell_type": "markdown",
   "id": "2cee9ca5",
   "metadata": {
    "deletable": false,
    "editable": false,
    "nbgrader": {
     "cell_type": "markdown",
     "checksum": "ddc2c10087c677c19e0463452d6f70f0",
     "grade": false,
     "grade_id": "cell-3815fc97a73cd968",
     "locked": true,
     "schema_version": 3,
     "solution": false,
     "task": false
    }
   },
   "source": [
    "Write code in the cell below.\n",
    "\n",
    "* Change the `raise_amt` in the `Developer` class below to 1.10.\n",
    "* Print `dev_1.pay`.\n",
    "* Apply a pay raise for `dev_1`.\n",
    "* Print `dev_1.pay`."
   ]
  },
  {
   "cell_type": "code",
   "execution_count": 7,
   "id": "ff4440bb",
   "metadata": {
    "deletable": false,
    "nbgrader": {
     "cell_type": "code",
     "checksum": "2201eb5abeb76ba053cdf7c93fa2a8fe",
     "grade": true,
     "grade_id": "cell-c72a28ddd255a91b",
     "locked": false,
     "points": 1,
     "schema_version": 3,
     "solution": true,
     "task": false
    }
   },
   "outputs": [
    {
     "ename": "AttributeError",
     "evalue": "type object 'Employee' has no attribute 'num_of_emps'",
     "output_type": "error",
     "traceback": [
      "\u001b[0;31m---------------------------------------------------------------------------\u001b[0m",
      "\u001b[0;31mAttributeError\u001b[0m                            Traceback (most recent call last)",
      "Cell \u001b[0;32mIn [7], line 4\u001b[0m\n\u001b[1;32m      1\u001b[0m \u001b[38;5;28;01mclass\u001b[39;00m \u001b[38;5;21;01mDeveloper\u001b[39;00m(Employee):\n\u001b[1;32m      2\u001b[0m     raise_amt \u001b[38;5;241m=\u001b[39m \u001b[38;5;241m1.10\u001b[39m\n\u001b[0;32m----> 4\u001b[0m dev_1 \u001b[38;5;241m=\u001b[39m \u001b[43mDeveloper\u001b[49m\u001b[43m(\u001b[49m\u001b[38;5;124;43m'\u001b[39;49m\u001b[38;5;124;43mCorey\u001b[39;49m\u001b[38;5;124;43m'\u001b[39;49m\u001b[43m,\u001b[49m\u001b[43m \u001b[49m\u001b[38;5;124;43m'\u001b[39;49m\u001b[38;5;124;43mSchafer\u001b[39;49m\u001b[38;5;124;43m'\u001b[39;49m\u001b[43m,\u001b[49m\u001b[43m \u001b[49m\u001b[38;5;241;43m50000\u001b[39;49m\u001b[43m)\u001b[49m\n\u001b[1;32m      5\u001b[0m dev_2 \u001b[38;5;241m=\u001b[39m Developer(\u001b[38;5;124m'\u001b[39m\u001b[38;5;124mTest\u001b[39m\u001b[38;5;124m'\u001b[39m, \u001b[38;5;124m'\u001b[39m\u001b[38;5;124mUser\u001b[39m\u001b[38;5;124m'\u001b[39m, \u001b[38;5;241m60000\u001b[39m)\n\u001b[1;32m      7\u001b[0m \u001b[38;5;28mprint\u001b[39m(dev_1\u001b[38;5;241m.\u001b[39mpay)\n",
      "Cell \u001b[0;32mIn [3], line 12\u001b[0m, in \u001b[0;36mEmployee.__init__\u001b[0;34m(self, first, last, pay)\u001b[0m\n\u001b[1;32m      9\u001b[0m \u001b[38;5;28mself\u001b[39m\u001b[38;5;241m.\u001b[39memail \u001b[38;5;241m=\u001b[39m first \u001b[38;5;241m+\u001b[39m \u001b[38;5;124m'\u001b[39m\u001b[38;5;124m.\u001b[39m\u001b[38;5;124m'\u001b[39m \u001b[38;5;241m+\u001b[39m last \u001b[38;5;241m+\u001b[39m \u001b[38;5;124m'\u001b[39m\u001b[38;5;124m@email.com\u001b[39m\u001b[38;5;124m'\u001b[39m\n\u001b[1;32m     10\u001b[0m \u001b[38;5;28mself\u001b[39m\u001b[38;5;241m.\u001b[39mpay \u001b[38;5;241m=\u001b[39m pay\n\u001b[0;32m---> 12\u001b[0m Employee\u001b[38;5;241m.\u001b[39mnum_of_emps \u001b[38;5;241m+\u001b[39m\u001b[38;5;241m=\u001b[39m \u001b[38;5;241m1\u001b[39m\n",
      "\u001b[0;31mAttributeError\u001b[0m: type object 'Employee' has no attribute 'num_of_emps'"
     ]
    }
   ],
   "source": [
    "class Developer(Employee):\n",
    "    raise_amt = 1.10\n",
    "\n",
    "dev_1 = Developer('Corey', 'Schafer', 50000)\n",
    "dev_2 = Developer('Test', 'User', 60000)\n",
    "\n",
    "print(dev_1.pay)\n",
    "dev_1.apply_raise()\n",
    "print(dev_1.pay)\n"
   ]
  },
  {
   "cell_type": "markdown",
   "id": "1370c851",
   "metadata": {
    "deletable": false,
    "editable": false,
    "nbgrader": {
     "cell_type": "markdown",
     "checksum": "8576fb7eb8f8fa703cd7a6a9629c9cd5",
     "grade": false,
     "grade_id": "cell-79d2ea1cd5daa86b",
     "locked": true,
     "schema_version": 3,
     "solution": false,
     "task": false
    }
   },
   "source": [
    "Write code in the cell below.\n",
    "\n",
    "* Add an init method in the `Developer` class below which accepts the parameters self, first, last, pay, prog_lang.\n",
    "* Use `super()` to pass the parameters `first`, `last`, `pay` to the Employee init method.\n",
    "* Add a line in the init method to handle the `prog_lang` parameter.\n",
    "* Add the language Python for the first developer and Java for the second developer.\n",
    "* Print the first developers email and programming language."
   ]
  },
  {
   "cell_type": "code",
   "execution_count": 15,
   "id": "d89c1a63",
   "metadata": {
    "deletable": false,
    "nbgrader": {
     "cell_type": "code",
     "checksum": "1420623c0fc09994899331a4f500148a",
     "grade": true,
     "grade_id": "cell-c183dd33347cf5aa",
     "locked": false,
     "points": 3,
     "schema_version": 3,
     "solution": true,
     "task": false
    }
   },
   "outputs": [
    {
     "ename": "NameError",
     "evalue": "name 'dev_1' is not defined",
     "output_type": "error",
     "traceback": [
      "\u001b[0;31m---------------------------------------------------------------------------\u001b[0m",
      "\u001b[0;31mNameError\u001b[0m                                 Traceback (most recent call last)",
      "Cell \u001b[0;32mIn [15], line 4\u001b[0m\n\u001b[1;32m      1\u001b[0m \u001b[38;5;28;01mclass\u001b[39;00m \u001b[38;5;21;01mDeveloper\u001b[39;00m(Employee):\n\u001b[1;32m      2\u001b[0m     raise_amt \u001b[38;5;241m=\u001b[39m \u001b[38;5;241m1.10\u001b[39m\n\u001b[0;32m----> 4\u001b[0m \u001b[38;5;28mprint\u001b[39m(\u001b[43mdev_1\u001b[49m\u001b[38;5;241m.\u001b[39mpay)\n\u001b[1;32m      5\u001b[0m dev_1\u001b[38;5;241m.\u001b[39mapply_raise()\n\u001b[1;32m      6\u001b[0m \u001b[38;5;28mprint\u001b[39m(dev_1\u001b[38;5;241m.\u001b[39mpay)\n",
      "\u001b[0;31mNameError\u001b[0m: name 'dev_1' is not defined"
     ]
    }
   ],
   "source": [
    "class Developer(Employee):\n",
    "    raise_amt = 1.10\n",
    "\n",
    "def __init__(self, first,last,pay):\n",
    "    self.first = first\n",
    "    self.last -= last\n",
    "    self.email = first + \".\" + last + '@email.com'ArithmeticError\n",
    "    self.pay = pay\n",
    "\n",
    "print(dev_1.pay)\n",
    "dev_1.apply_raise()\n",
    "print(dev_1.pay)\n",
    "\n",
    "dev_1 = Developer('Corey', 'Schafer', 50000, 'Python')\n",
    "dev_2 = Developer('Test', 'User', 60000, 'Java')\n",
    "\n",
    "class Developer(Employee):\n",
    "    raise_amt = 1.10\n",
    "\n",
    "    def __init__(self, first, last, pay, prog_lang):\n",
    "        super().__initi__(firsts, last, pay)\n",
    "        self.prog_lang = prog_lang\n",
    "\n",
    "print(dev_1.email)\n",
    "print(dev_1.prog_lang)\n",
    "\n"
   ]
  },
  {
   "cell_type": "markdown",
   "id": "ba9a2f46",
   "metadata": {
    "deletable": false,
    "editable": false,
    "nbgrader": {
     "cell_type": "markdown",
     "checksum": "b617a361584b8728e138bd16aedc212a",
     "grade": false,
     "grade_id": "cell-4dbeed67d14b024b",
     "locked": true,
     "schema_version": 3,
     "solution": false,
     "task": false
    }
   },
   "source": [
    "Write code in the cell below.\n",
    "\n",
    "* Create a class called `Manager` which inherits from `Employee`.\n",
    "* Copy your init method from the `Developer` class to use in the `Manager` class.\n",
    "* Change the `prog_lang` parameter to `employees=None`.\n",
    "* If `employees=None`, set the `employees` parameter to an empty list, otherwise set the parameter to the list that is supplied.\n",
    "* Add a method called `add_emp` which accepts the parameters `self`, `emp`.\n",
    "* Have the method append the employee to the list if it is not already in the list.\n",
    "* Add a method called `remove_emp` which accepts the parameters `self`, `emp`.\n",
    "* Have the method remove the employee from the list if it is found in the list.\n",
    "* Add a method called `print_emps` which accepts the parameter `self`.\n",
    "* Have the method print the employees in the list. \n",
    "* Create a manager called `mgr_1` using the `Manager` class with the following parameters `Sue`, `Smith`, `90000`, `[dev_1]`.\n",
    "* Print the manager's email address.\n",
    "* Print the employees `mgr_1` supervises.\n",
    "* Add `dev_2` as an employy of `mgr_1`.\n",
    "* Remove `dev_1` as an employy of `mgr_1`."
   ]
  },
  {
   "cell_type": "code",
   "execution_count": 24,
   "id": "dbf4f01a",
   "metadata": {
    "deletable": false,
    "nbgrader": {
     "cell_type": "code",
     "checksum": "eda944e820cb8825bfcd3368a03a8680",
     "grade": true,
     "grade_id": "cell-97d08f41e091ce0f",
     "locked": false,
     "points": 6,
     "schema_version": 3,
     "solution": true,
     "task": false
    }
   },
   "outputs": [
    {
     "ename": "TypeError",
     "evalue": "Employee.__init__() takes 4 positional arguments but 5 were given",
     "output_type": "error",
     "traceback": [
      "\u001b[0;31m---------------------------------------------------------------------------\u001b[0m",
      "\u001b[0;31mTypeError\u001b[0m                                 Traceback (most recent call last)",
      "Cell \u001b[0;32mIn [24], line 1\u001b[0m\n\u001b[0;32m----> 1\u001b[0m dev_1 \u001b[38;5;241m=\u001b[39m \u001b[43mDeveloper\u001b[49m\u001b[43m(\u001b[49m\u001b[38;5;124;43m'\u001b[39;49m\u001b[38;5;124;43mCorey\u001b[39;49m\u001b[38;5;124;43m'\u001b[39;49m\u001b[43m,\u001b[49m\u001b[43m \u001b[49m\u001b[38;5;124;43m'\u001b[39;49m\u001b[38;5;124;43mSchafer\u001b[39;49m\u001b[38;5;124;43m'\u001b[39;49m\u001b[43m,\u001b[49m\u001b[43m \u001b[49m\u001b[38;5;241;43m50000\u001b[39;49m\u001b[43m,\u001b[49m\u001b[43m \u001b[49m\u001b[38;5;124;43m'\u001b[39;49m\u001b[38;5;124;43mPython\u001b[39;49m\u001b[38;5;124;43m'\u001b[39;49m\u001b[43m)\u001b[49m\n\u001b[1;32m      2\u001b[0m dev_2 \u001b[38;5;241m=\u001b[39m Developer(\u001b[38;5;124m'\u001b[39m\u001b[38;5;124mTest\u001b[39m\u001b[38;5;124m'\u001b[39m, \u001b[38;5;124m'\u001b[39m\u001b[38;5;124mUser\u001b[39m\u001b[38;5;124m'\u001b[39m, \u001b[38;5;241m60000\u001b[39m, \u001b[38;5;124m'\u001b[39m\u001b[38;5;124mJava\u001b[39m\u001b[38;5;124m'\u001b[39m)\n\u001b[1;32m      4\u001b[0m \u001b[38;5;28;01mclass\u001b[39;00m \u001b[38;5;21;01mDeveloper\u001b[39;00m(Employee):\n",
      "\u001b[0;31mTypeError\u001b[0m: Employee.__init__() takes 4 positional arguments but 5 were given"
     ]
    }
   ],
   "source": [
    "dev_1 = Developer('Corey', 'Schafer', 50000, 'Python')\n",
    "dev_2 = Developer('Test', 'User', 60000, 'Java')\n",
    "\n",
    "class Developer(Employee):\n",
    "    raise_amt = 1.10\n",
    "\n",
    "    def __init__(self, first, last, pay, prog_lang):\n",
    "        super().__initi__(firsts, last, pay)\n",
    "        self.prog_lang = prog_lang\n",
    "       \n",
    "class Manager(Employee):\n",
    "\n",
    "    def __init__(self, first, last, pay, employees=None):\n",
    "        super().__initi__(firsts, last, pay)\n",
    "        if employees is None:\n",
    "                self.employees = []\n",
    "        else:\n",
    "            self.employees = employees\n",
    "    \n",
    "    def add_emp(self, emp):\n",
    "        if emp not in self.employees:\n",
    "            self.employees.append(emp)\n",
    "\n",
    "    def remove_emp(self, emp):\n",
    "        if emp in self.employees:\n",
    "            self.employees.append(emp)\n",
    "    \n",
    "    def print_emps(self):\n",
    "        for emp in self.employees:\n",
    "            print('-->', emp.fullname())\n",
    "\n",
    "mgr_1 = Manager('Sue', 'Smith', 90000, [dev_1])\n",
    "print(mgr_1.email)\n",
    "mgr_1.print_emps()\n",
    "mgr_1.add_emp(dev_2)\n",
    "mgr_1.remove_emp(dev_1)\n",
    "mgr_1.print_emps()\n"
   ]
  },
  {
   "cell_type": "markdown",
   "id": "93828094",
   "metadata": {
    "deletable": false,
    "editable": false,
    "nbgrader": {
     "cell_type": "markdown",
     "checksum": "1410ecbf6d252db659c3543222aa52a3",
     "grade": false,
     "grade_id": "cell-4fc872f29d141c62",
     "locked": true,
     "schema_version": 3,
     "solution": false,
     "task": false
    }
   },
   "source": [
    "Write code in the cell below.\n",
    "\n",
    "* Print the result of using `isinstance()` to check if `mgr_1` is an instance of `Manager`.\n",
    "* Print the result of using `issubclass()` to check if `Manager` is a subclass of `Developer`."
   ]
  },
  {
   "cell_type": "code",
   "execution_count": 28,
   "id": "570c0093",
   "metadata": {
    "deletable": false,
    "nbgrader": {
     "cell_type": "code",
     "checksum": "3af129d497eeda0320309ab887bfa911",
     "grade": true,
     "grade_id": "cell-4ab91cf4e512391b",
     "locked": false,
     "points": 1,
     "schema_version": 3,
     "solution": true,
     "task": false
    }
   },
   "outputs": [
    {
     "ename": "NameError",
     "evalue": "name 'mgr_1' is not defined",
     "output_type": "error",
     "traceback": [
      "\u001b[0;31m---------------------------------------------------------------------------\u001b[0m",
      "\u001b[0;31mNameError\u001b[0m                                 Traceback (most recent call last)",
      "Cell \u001b[0;32mIn [28], line 1\u001b[0m\n\u001b[0;32m----> 1\u001b[0m \u001b[38;5;28mprint\u001b[39m(\u001b[38;5;28misinstance\u001b[39m(\u001b[43mmgr_1\u001b[49m, Manager))\n\u001b[1;32m      2\u001b[0m \u001b[38;5;28mprint\u001b[39m(\u001b[38;5;28misinstance\u001b[39m(mgr_1, Developer))\n\u001b[1;32m      3\u001b[0m \u001b[38;5;28mprint\u001b[39m(\u001b[38;5;28missubclass\u001b[39m(mgr_1, Developer))\n",
      "\u001b[0;31mNameError\u001b[0m: name 'mgr_1' is not defined"
     ]
    }
   ],
   "source": [
    "print(isinstance(mgr_1, Manager))\n",
    "print(isinstance(mgr_1, Developer))\n",
    "print(issubclass(mgr_1, Developer))\n"
   ]
  }
 ],
 "metadata": {
  "kernelspec": {
   "display_name": "Python 3.10.6 64-bit",
   "language": "python",
   "name": "python3"
  },
  "language_info": {
   "codemirror_mode": {
    "name": "ipython",
    "version": 3
   },
   "file_extension": ".py",
   "mimetype": "text/x-python",
   "name": "python",
   "nbconvert_exporter": "python",
   "pygments_lexer": "ipython3",
   "version": "3.10.6"
  },
  "vscode": {
   "interpreter": {
    "hash": "aee8b7b246df8f9039afb4144a1f6fd8d2ca17a180786b69acc140d282b71a49"
   }
  }
 },
 "nbformat": 4,
 "nbformat_minor": 5
}
